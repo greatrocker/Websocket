{
 "cells": [
  {
   "cell_type": "code",
   "execution_count": 1,
   "metadata": {},
   "outputs": [],
   "source": [
    "import websocket\n",
    "import json\n",
    "import zlib\n",
    "import threading\n",
    "from threading import Thread\n",
    "from threading import Lock\n",
    "import queue\n",
    "import time\n",
    "import sqlite3\n",
    "import pandas as pd\n",
    "import asyncio\n",
    "import nest_asyncio\n",
    "import websockets"
   ]
  },
  {
   "cell_type": "code",
   "execution_count": null,
   "metadata": {},
   "outputs": [],
   "source": [
    "from pybit.unified_trading import WebSocket\n",
    "from time import sleep\n",
    "ws = WebSocket(\n",
    "    testnet=True,\n",
    "    channel_type=\"linear\",\n",
    ")\n",
    "def handle_message(message):\n",
    "    print(message)\n",
    "symbol_list = ['BTC','ETH']\n",
    "# [Symbol for Symbol in symbol_list] \n",
    "Symbol = 'ETH'\n",
    "ws.trade_stream(\n",
    "    symbol= Symbol + \"USDT\",\n",
    "    callback=handle_message\n",
    ")\n",
    "# while True:\n",
    "#     sleep(1)"
   ]
  }
 ],
 "metadata": {
  "kernelspec": {
   "display_name": "Python 3",
   "language": "python",
   "name": "python3"
  },
  "language_info": {
   "codemirror_mode": {
    "name": "ipython",
    "version": 3
   },
   "file_extension": ".py",
   "mimetype": "text/x-python",
   "name": "python",
   "nbconvert_exporter": "python",
   "pygments_lexer": "ipython3",
   "version": "3.10.2"
  }
 },
 "nbformat": 4,
 "nbformat_minor": 4
}
